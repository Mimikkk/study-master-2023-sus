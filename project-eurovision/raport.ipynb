{
 "cells": [
  {
   "cell_type": "markdown",
   "source": [
    "# Raport ze studium przypadku — Analiza zbioru danych \"Eurovision Song Contest Data\"\n",
    "\n",
    "Autor: Daniel Zdancewicz 145317\n",
    "Przedmiot: Systemy uczenia się\n",
    "\n",
    "Raport również dostępny na stronie [Overleaf](https://www.overleaf.com/read/rmkbkyvzgmzm)\n",
    "\n",
    "## Zbiór Danych\n",
    "\n",
    "W studium wykorzystano zbiór danych dostępny na stronie [Kaggle](https://www.kaggle.com/datasets/diamondsnake/eurovision-song-contest-data)\n",
    "\n",
    "Zbiór danych zawiera informacje o konkursie piosenki Eurowizji od 2009 do 2022 roku (z pominięciem 2020, w którym eurowizja się nie odbyła z powodu pandemii). Zbiór danych zawiera 49 plików CSV:\n",
    "- Nieużywany podczas badania — 41 plików z danymi o dokładnych wynikach głosowania z lat 2016-2022 podzielonych na głosy jury oraz głosy widzów.\n",
    "  - Katalog [Final Results](./resources/datasets/eurovision/Final%20Results) zawiera dane o wynikach finałów konkursów podzielone na głosy jury ([Jury](./resources/datasets/eurovision/Final%20Results/Jury)) oraz głosy widzów ([Televote](./resources/datasets/eurovision/Final%20Results/Televote)).\n",
    "  - Katalog [Polls](./resources/datasets/eurovision/Polls) zawiera dane o głosach widzów w finałach konkursów z lat 2016-2022 podzielone na głosy dokonane na różnych platformach. (Discord/EuroJury/Eurovision World/My Eurovision Scoreboard/OGAE/Wiwibloggs)\n",
    "- 3 pliki z danymi\n",
    "  - Nieużywany podczas badania — [contest_data.csv](./resources/datasets/eurovision/contest_data.csv) — metadane o konkursie z lat (2009-2021)\n",
    "  - Nieużywany podczas badania — [country_data.csv](./resources/datasets/eurovision/country_data.csv) — dane o krajach uczestniczących w konkursie na przestrzeni lat (2009-2022)\n",
    "  - [song_data.csv](./resources/datasets/eurovision/song_data.csv) — dane o piosenkach z lat 2009-2022, z informacjami o tym, jaka ranga została osiągnięta przez piosenkę w konkursie w półfinałach i finałach oraz informacje dotyczące wykonawców piosenki.\n",
    "    - Jeżeli w kolumnie rankingowej znajduje się wartość -, oznacza to, że piosenka nie zakwalifikowała się do finału / nie występuje w finale.\n",
    "Niektóre z plików CSV zawierają niepełne dane z powodu pandemii, która uniemożliwiła przeprowadzenie konkursu w 2020 roku, oraz z powodu braku jawnej formy głosowania przez widzów przed 2016.\n",
    "\n",
    "## Uwagi dotyczące zbioru danych\n",
    "\n",
    "- Państwo, które wygrało rok wcześniej, automatycznie jest w finale i nie bierze udziału w półfinałach.\n",
    "- Państwa, które są w grupie \"Big 5\" automatycznie są w finale (Francja, Niemcy, Hiszpania, Włochy, Wielka Brytania).\n",
    "- Państwa, które nie dostały się do finału/pół-finału, nie są uwzględniane w zbiorze danych.\n",
    "\n",
    "Nie użyto pliku z danymi [contest_data.csv](./resources/datasets/eurovision/contest_data.csv) oraz [country_data.csv](./resources/datasets/eurovision/country_data.csv) ze względu na brak informacji, które mogłyby być wykorzystane w eksperymentach, oraz ich niespójności z pozostałymi danymi. Natomiast katalog [Polls](./resources/datasets/eurovision/Polls) z braku pokrycia z celem badania.\n",
    "\n",
    "\n",
    "## Transformacja danych\n",
    "Definicja odczytu oraz transformacje znajdują się w pliku [dataset.py](./dataset.py).\n",
    "\n",
    "W celu przeprowadzenia eksperymentów dane zostały przekształcone w następujący sposób:\n",
    "- Dane o piosenkach z lat 2009-2022 otrzymały dodatkowe kolumny mówiące o tym, czy język, w którym zaśpiewano piosenkę, jest językiem ojczystym.\n",
    "\n",
    "## Cel badania\n",
    "\n",
    "W badaniu postawiono następujące pytania:\n",
    "- Czy państwa głosują siebie?\n",
    "- Czy istnieje dysonans między wynikami głosowania jury a widzów?\n",
    "- Czy piosenki w języku angielskim mają większe szanse na wygraną?\n",
    "- Czy piosenki w języku ojczystym mają większe szanse na wygraną?\n",
    "- Czy piosenki w języku angielskim mają większe szanse na wygraną w krajach, w których język angielski nie jest oficjalnym językiem?\n",
    "- Czy można przewidzieć wynik piosenki na podstawie danych o wykonawcy i piosence z naciskiem na język piosenki?\n",
    "\n",
    "Badanie w eksperymentach wykorzystało dane podzielone na 2 rodzaje:\n",
    "- Wyniki w półfinałach i finałach konkursu z lat 2009-2022 przez głosy jury.\n",
    "- Wyniki w finałach konkursu z lat 2016-2022 podzielone na głosy widzów i jury.\n",
    "\n",
    "## Bibliografia\n",
    "\n",
    "- ODI6s. Eurovision song contest data, 2022. Song data, poll results, and contest results. URL: [www.kaggle.com/datasets/diamondsnake/eurovision-song-contest-data](https://www.kaggle.com/datasets/diamondsnake/eurovision-song-contest-data).\n"
   ],
   "metadata": {
    "collapsed": false
   }
  },
  {
   "cell_type": "markdown",
   "source": [
    "## Obligatoryjne importy"
   ],
   "metadata": {
    "collapsed": false
   }
  },
  {
   "cell_type": "code",
   "execution_count": 8,
   "outputs": [],
   "source": [
    "from dataset import EurovisionDataset\n",
    "import pandas as pd\n",
    "import numpy as np\n",
    "import matplotlib.pyplot as plt\n",
    "import seaborn as sns\n",
    "import warnings\n",
    "warnings.filterwarnings('ignore')"
   ],
   "metadata": {
    "collapsed": false
   }
  },
  {
   "cell_type": "markdown",
   "source": [
    "# Wstępna eksploracja danych"
   ],
   "metadata": {
    "collapsed": false
   }
  },
  {
   "cell_type": "code",
   "execution_count": 9,
   "outputs": [
    {
     "ename": "AttributeError",
     "evalue": "'DataFrame' object has no attribute 'in_native'",
     "output_type": "error",
     "traceback": [
      "\u001B[1;31m---------------------------------------------------------------------------\u001B[0m",
      "\u001B[1;31mAttributeError\u001B[0m                            Traceback (most recent call last)",
      "Cell \u001B[1;32mIn[9], line 3\u001B[0m\n\u001B[0;32m      1\u001B[0m dataset \u001B[38;5;241m=\u001B[39m EurovisionDataset\u001B[38;5;241m.\u001B[39mload()\n\u001B[1;32m----> 3\u001B[0m \u001B[43mdataset\u001B[49m\u001B[38;5;241;43m.\u001B[39;49m\u001B[43msongs\u001B[49m\u001B[38;5;241;43m.\u001B[39;49m\u001B[43min_native\u001B[49m\n",
      "File \u001B[1;32m~\\PycharmProjects\\2023-sus\\venv\\lib\\site-packages\\pandas\\core\\generic.py:5902\u001B[0m, in \u001B[0;36mNDFrame.__getattr__\u001B[1;34m(self, name)\u001B[0m\n\u001B[0;32m   5895\u001B[0m \u001B[38;5;28;01mif\u001B[39;00m (\n\u001B[0;32m   5896\u001B[0m     name \u001B[38;5;129;01mnot\u001B[39;00m \u001B[38;5;129;01min\u001B[39;00m \u001B[38;5;28mself\u001B[39m\u001B[38;5;241m.\u001B[39m_internal_names_set\n\u001B[0;32m   5897\u001B[0m     \u001B[38;5;129;01mand\u001B[39;00m name \u001B[38;5;129;01mnot\u001B[39;00m \u001B[38;5;129;01min\u001B[39;00m \u001B[38;5;28mself\u001B[39m\u001B[38;5;241m.\u001B[39m_metadata\n\u001B[0;32m   5898\u001B[0m     \u001B[38;5;129;01mand\u001B[39;00m name \u001B[38;5;129;01mnot\u001B[39;00m \u001B[38;5;129;01min\u001B[39;00m \u001B[38;5;28mself\u001B[39m\u001B[38;5;241m.\u001B[39m_accessors\n\u001B[0;32m   5899\u001B[0m     \u001B[38;5;129;01mand\u001B[39;00m \u001B[38;5;28mself\u001B[39m\u001B[38;5;241m.\u001B[39m_info_axis\u001B[38;5;241m.\u001B[39m_can_hold_identifiers_and_holds_name(name)\n\u001B[0;32m   5900\u001B[0m ):\n\u001B[0;32m   5901\u001B[0m     \u001B[38;5;28;01mreturn\u001B[39;00m \u001B[38;5;28mself\u001B[39m[name]\n\u001B[1;32m-> 5902\u001B[0m \u001B[38;5;28;01mreturn\u001B[39;00m \u001B[38;5;28;43mobject\u001B[39;49m\u001B[38;5;241;43m.\u001B[39;49m\u001B[38;5;21;43m__getattribute__\u001B[39;49m\u001B[43m(\u001B[49m\u001B[38;5;28;43mself\u001B[39;49m\u001B[43m,\u001B[49m\u001B[43m \u001B[49m\u001B[43mname\u001B[49m\u001B[43m)\u001B[49m\n",
      "\u001B[1;31mAttributeError\u001B[0m: 'DataFrame' object has no attribute 'in_native'"
     ]
    }
   ],
   "source": [
    "dataset = EurovisionDataset.load()\n",
    "\n",
    "dataset.songs.in_native"
   ],
   "metadata": {
    "collapsed": false
   }
  },
  {
   "cell_type": "markdown",
   "source": [
    "## Wnioski ze wstępnej eksploracji danych\n"
   ],
   "metadata": {
    "collapsed": false
   }
  },
  {
   "cell_type": "markdown",
   "source": [
    "## Czy państwa głosują siebie?"
   ],
   "metadata": {
    "collapsed": false
   }
  },
  {
   "cell_type": "markdown",
   "source": [
    "### Wyniki w półfinałach i finałach konkursu z lat 2009-2022 przez głosy jury."
   ],
   "metadata": {
    "collapsed": false
   }
  },
  {
   "cell_type": "code",
   "execution_count": null,
   "outputs": [],
   "source": [],
   "metadata": {
    "collapsed": false
   }
  },
  {
   "cell_type": "markdown",
   "source": [
    "### Wyniki w finałach konkursu z lat 2016-2022 podzielone na głosy widzów i jury."
   ],
   "metadata": {
    "collapsed": false
   }
  },
  {
   "cell_type": "code",
   "execution_count": null,
   "outputs": [],
   "source": [],
   "metadata": {
    "collapsed": false
   }
  },
  {
   "cell_type": "markdown",
   "source": [
    "## Czy istnieje dysonans między wynikami głosowania jury a widzów?\n"
   ],
   "metadata": {
    "collapsed": false
   }
  },
  {
   "cell_type": "markdown",
   "source": [
    "### Wyniki w finałach konkursu z lat 2016-2022 przez głosy jury i widzów.\n"
   ],
   "metadata": {
    "collapsed": false
   }
  },
  {
   "cell_type": "code",
   "execution_count": null,
   "outputs": [],
   "source": [],
   "metadata": {
    "collapsed": false
   }
  },
  {
   "cell_type": "markdown",
   "source": [
    "### Wyniki w finałach konkursu z lat 2016-2022 przez głosy jury.\n"
   ],
   "metadata": {
    "collapsed": false
   }
  },
  {
   "cell_type": "code",
   "execution_count": null,
   "outputs": [],
   "source": [],
   "metadata": {
    "collapsed": false
   }
  },
  {
   "cell_type": "markdown",
   "source": [
    "### Wyniki w finałach konkursu z lat 2016-2022 przez głosy widzów."
   ],
   "metadata": {
    "collapsed": false
   }
  },
  {
   "cell_type": "code",
   "execution_count": null,
   "outputs": [],
   "source": [],
   "metadata": {
    "collapsed": false
   }
  },
  {
   "cell_type": "markdown",
   "source": [
    "### Porównanie wyników głosowania jury i widzów w finałach konkursu z lat 2016-2022."
   ],
   "metadata": {
    "collapsed": false
   }
  },
  {
   "cell_type": "code",
   "execution_count": null,
   "outputs": [],
   "source": [],
   "metadata": {
    "collapsed": false
   }
  }
 ],
 "metadata": {
  "kernelspec": {
   "display_name": "Python 3",
   "language": "python",
   "name": "python3"
  },
  "language_info": {
   "codemirror_mode": {
    "name": "ipython",
    "version": 2
   },
   "file_extension": ".py",
   "mimetype": "text/x-python",
   "name": "python",
   "nbconvert_exporter": "python",
   "pygments_lexer": "ipython2",
   "version": "2.7.6"
  }
 },
 "nbformat": 4,
 "nbformat_minor": 0
}
